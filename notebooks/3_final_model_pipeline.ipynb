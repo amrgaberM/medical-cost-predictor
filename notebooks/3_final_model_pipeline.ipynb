{
  "nbformat": 4,
  "nbformat_minor": 0,
  "metadata": {
    "colab": {
      "provenance": []
    },
    "kernelspec": {
      "name": "python3",
      "display_name": "Python 3"
    },
    "language_info": {
      "name": "python"
    }
  },
  "cells": [
    {
      "cell_type": "code",
      "execution_count": 1,
      "metadata": {
        "colab": {
          "base_uri": "https://localhost:8080/"
        },
        "id": "o_50JZpdMgug",
        "outputId": "50555c1b-0f22-4803-801d-e667c7bbb5b1"
      },
      "outputs": [
        {
          "output_type": "stream",
          "name": "stdout",
          "text": [
            "Training the full pipeline...\n",
            "Pipeline training complete.\n",
            "\n",
            "Full pipeline saved successfully as 'insurance_pipeline_v1.joblib'\n"
          ]
        }
      ],
      "source": [
        "import pandas as pd\n",
        "from sklearn.model_selection import train_test_split\n",
        "from sklearn.compose import ColumnTransformer\n",
        "from sklearn.preprocessing import OneHotEncoder\n",
        "from sklearn.pipeline import Pipeline\n",
        "from sklearn.ensemble import GradientBoostingRegressor\n",
        "import joblib\n",
        "\n",
        "# --- 1. DATA PREPARATION ---\n",
        "df = pd.read_csv('/content/insurance.csv')\n",
        "df.drop_duplicates(inplace=True)\n",
        "\n",
        "# Separate features and target\n",
        "X = df.drop('charges', axis=1)\n",
        "y = df['charges']\n",
        "\n",
        "# Split the data BEFORE any preprocessing to prevent data leakage\n",
        "X_train, X_test, y_train, y_test = train_test_split(X, y, test_size=0.2, random_state=42)\n",
        "\n",
        "# --- 2. DEFINE THE PREPROCESSING PIPELINE ---\n",
        "\n",
        "# Identify which columns are categorical\n",
        "categorical_features = ['sex', 'smoker', 'region']\n",
        "# You could also have numerical features to scale here if needed\n",
        "\n",
        "# Create a 'preprocessor' object. This will apply the OneHotEncoder\n",
        "# to the categorical columns and leave the rest alone.\n",
        "preprocessor = ColumnTransformer(\n",
        "    transformers=[\n",
        "        ('cat', OneHotEncoder(handle_unknown='ignore', drop='first'), categorical_features)\n",
        "    ],\n",
        "    remainder='passthrough' # Keep the numerical columns as they are\n",
        ")\n",
        "\n",
        "# --- 3. DEFINE THE FULL MODEL PIPELINE ---\n",
        "\n",
        "# Use the best parameters you found from tuning\n",
        "best_params = {'learning_rate': 0.1, 'max_depth': 2, 'n_estimators': 150}\n",
        "\n",
        "# Chain the preprocessor and the model together in a Pipeline\n",
        "model_pipeline = Pipeline(steps=[\n",
        "    ('preprocessor', preprocessor),\n",
        "    ('regressor', GradientBoostingRegressor(**best_params, random_state=42))\n",
        "])\n",
        "\n",
        "# --- 4. TRAIN THE ENTIRE PIPELINE ---\n",
        "# Now, you just fit the pipeline. It handles all the steps internally.\n",
        "print(\"Training the full pipeline...\")\n",
        "model_pipeline.fit(X_train, y_train)\n",
        "print(\"Pipeline training complete.\")\n",
        "\n",
        "# --- 5. SAVE THE PIPELINE ---\n",
        "# You save the single pipeline object, not just the model.\n",
        "joblib.dump(model_pipeline, 'insurance_pipeline_v1.joblib')\n",
        "print(\"\\nFull pipeline saved successfully as 'insurance_pipeline_v1.joblib'\")"
      ]
    },
    {
      "cell_type": "code",
      "source": [],
      "metadata": {
        "id": "LzpTEPprM2wi"
      },
      "execution_count": null,
      "outputs": []
    }
  ]
}